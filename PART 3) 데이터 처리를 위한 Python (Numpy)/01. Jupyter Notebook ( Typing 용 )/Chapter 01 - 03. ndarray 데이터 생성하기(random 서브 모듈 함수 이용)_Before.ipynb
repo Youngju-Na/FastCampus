{
 "cells": [
  {
   "cell_type": "markdown",
   "metadata": {},
   "source": [
    "### 학습목표\n",
    " - random 서브모듈 함수를 통해 ndarray 생성하기"
   ]
  },
  {
   "cell_type": "code",
   "execution_count": 1,
   "metadata": {},
   "outputs": [],
   "source": [
    "import numpy as np"
   ]
  },
  {
   "cell_type": "markdown",
   "metadata": {},
   "source": [
    "#### random 서브모듈"
   ]
  },
  {
   "cell_type": "markdown",
   "metadata": {},
   "source": [
    "#### rand 함수\n",
    " - 0, 1사이의 분포로 랜덤한 ndarray 생성"
   ]
  },
  {
   "cell_type": "code",
   "execution_count": 6,
   "metadata": {},
   "outputs": [
    {
     "data": {
      "text/plain": [
       "0.9320302252501568"
      ]
     },
     "execution_count": 6,
     "metadata": {},
     "output_type": "execute_result"
    }
   ],
   "source": [
    "np.random.rand() "
   ]
  },
  {
   "cell_type": "markdown",
   "metadata": {},
   "source": [
    "#### randn함수\n",
    " - n: normal distribution(정규분포)\n",
    " - 정규분포로 샘플링된 랜덤 ndarray 생성"
   ]
  },
  {
   "cell_type": "code",
   "execution_count": 9,
   "metadata": {},
   "outputs": [
    {
     "data": {
      "text/plain": [
       "array([[[-0.2905178 ,  0.22622657, -0.06062667,  1.08049575],\n",
       "        [-0.7842807 , -0.4313553 , -1.39532597,  0.89913877],\n",
       "        [-0.61984091, -0.80560101,  0.13171009, -0.75633847]],\n",
       "\n",
       "       [[ 0.34264925, -0.2592606 ,  0.47060011,  1.62960316],\n",
       "        [ 0.81657116, -0.62173801,  0.20120526, -0.07962213],\n",
       "        [-2.3514638 , -0.61481958,  0.96996537,  0.42143724]],\n",
       "\n",
       "       [[-1.70493291,  0.29550873,  0.4596525 , -0.64381725],\n",
       "        [ 0.2605617 ,  1.27711937,  0.23955699,  0.09129953],\n",
       "        [ 0.66150089,  0.20799213,  1.0633157 , -0.44502761]]])"
      ]
     },
     "execution_count": 9,
     "metadata": {},
     "output_type": "execute_result"
    }
   ],
   "source": [
    "np.random.randn(3, 3, 4)"
   ]
  },
  {
   "cell_type": "markdown",
   "metadata": {},
   "source": [
    "#### randint 함수\n",
    " - 특정 정수 사이에서 랜덤하게 샘플링"
   ]
  },
  {
   "cell_type": "code",
   "execution_count": 22,
   "metadata": {},
   "outputs": [
    {
     "data": {
      "text/plain": [
       "array([[[68, 54],\n",
       "        [16, 44],\n",
       "        [64, 11],\n",
       "        [18, 22],\n",
       "        [37, 36]],\n",
       "\n",
       "       [[68, 86],\n",
       "        [ 2, 31],\n",
       "        [70, 15],\n",
       "        [28, 19],\n",
       "        [31,  3]],\n",
       "\n",
       "       [[96, 22],\n",
       "        [55, 57],\n",
       "        [59, 41],\n",
       "        [48, 73],\n",
       "        [55, 63]]])"
      ]
     },
     "execution_count": 22,
     "metadata": {},
     "output_type": "execute_result"
    }
   ],
   "source": [
    "np.random.randint(1, 100, size=(3, 5, 2))"
   ]
  },
  {
   "cell_type": "markdown",
   "metadata": {},
   "source": [
    "#### seed 함수\n",
    " - 랜덤한 값을 동일하게 다시 생성하고자 할때 사용"
   ]
  },
  {
   "cell_type": "code",
   "execution_count": 29,
   "metadata": {},
   "outputs": [],
   "source": [
    "np.random.seed(42)"
   ]
  },
  {
   "cell_type": "code",
   "execution_count": 42,
   "metadata": {},
   "outputs": [
    {
     "data": {
      "text/plain": [
       "array([[ 0.25988279,  0.78182287, -1.23695071, -1.32045661],\n",
       "       [ 0.52194157,  0.29698467,  0.25049285,  0.34644821],\n",
       "       [-0.68002472,  0.2322537 ,  0.29307247, -0.71435142]])"
      ]
     },
     "execution_count": 42,
     "metadata": {},
     "output_type": "execute_result"
    }
   ],
   "source": [
    "np.random.randn(3, 4)"
   ]
  },
  {
   "cell_type": "code",
   "execution_count": 43,
   "metadata": {},
   "outputs": [
    {
     "data": {
      "text/plain": [
       "array([[ 1.86577451,  0.47383292, -1.1913035 ,  0.65655361],\n",
       "       [-0.97468167,  0.7870846 ,  1.15859558, -0.82068232],\n",
       "       [ 0.96337613,  0.41278093,  0.82206016,  1.89679298]])"
      ]
     },
     "execution_count": 43,
     "metadata": {},
     "output_type": "execute_result"
    }
   ],
   "source": [
    "np.random.randn(3, 4)"
   ]
  },
  {
   "cell_type": "markdown",
   "metadata": {},
   "source": [
    "#### choice\n",
    " - 주어진 1차원 ndarray로 부터 랜덤으로 샘플링\n",
    " - 정수가 주어진 경우, np.arange(해당숫자)로 간주"
   ]
  },
  {
   "cell_type": "code",
   "execution_count": 49,
   "metadata": {},
   "outputs": [
    {
     "data": {
      "text/plain": [
       "array([[5, 4],\n",
       "       [9, 6]])"
      ]
     },
     "execution_count": 49,
     "metadata": {},
     "output_type": "execute_result"
    }
   ],
   "source": [
    "x = np.arange(1, 10, 1)\n",
    "np.random.choice(x, size=(2, 2), replace=False)"
   ]
  },
  {
   "cell_type": "markdown",
   "metadata": {},
   "source": [
    "#### 확률분포에 따른 ndarray 생성\n",
    " - uniform\n",
    " - normal 등등"
   ]
  },
  {
   "cell_type": "code",
   "execution_count": 51,
   "metadata": {},
   "outputs": [
    {
     "data": {
      "text/plain": [
       "array([[2.29992786, 2.40393375, 2.59158534, 2.78001068, 1.67599031],\n",
       "       [1.75116591, 1.18796388, 2.15656028, 1.07188455, 1.93119604],\n",
       "       [2.08528927, 1.5730825 , 2.18166652, 1.0610005 , 1.07469638],\n",
       "       [2.64520112, 1.72038128, 1.25412103, 2.04448652, 2.53998711]])"
      ]
     },
     "execution_count": 51,
     "metadata": {},
     "output_type": "execute_result"
    }
   ],
   "source": [
    "np.random.uniform(1.0, 3.0, size=(4, 5))"
   ]
  },
  {
   "cell_type": "code",
   "execution_count": 52,
   "metadata": {},
   "outputs": [
    {
     "data": {
      "text/plain": [
       "array([[ 0.54957635, -1.27087181,  2.38903596,  1.84341376],\n",
       "       [ 1.36343549,  0.82876598,  0.01514328,  0.44207402],\n",
       "       [ 1.04801974, -0.62856975, -0.44449874, -1.66913236]])"
      ]
     },
     "execution_count": 52,
     "metadata": {},
     "output_type": "execute_result"
    }
   ],
   "source": [
    "np.random.standard_normal(size=(3, 4))"
   ]
  },
  {
   "cell_type": "code",
   "execution_count": 53,
   "metadata": {},
   "outputs": [
    {
     "data": {
      "text/plain": [
       "array([[-0.77181908,  1.66130173, -0.33424709, -0.31784691],\n",
       "       [ 0.31776703, -1.61222731,  0.94538169,  1.26640686],\n",
       "       [ 0.37729627,  1.65135099, -1.32683177,  1.8437158 ]])"
      ]
     },
     "execution_count": 53,
     "metadata": {},
     "output_type": "execute_result"
    }
   ],
   "source": [
    "np.random.randn(3, 4)"
   ]
  },
  {
   "cell_type": "code",
   "execution_count": null,
   "metadata": {},
   "outputs": [],
   "source": []
  }
 ],
 "metadata": {
  "kernelspec": {
   "display_name": "Python 3",
   "language": "python",
   "name": "python3"
  },
  "language_info": {
   "codemirror_mode": {
    "name": "ipython",
    "version": 3
   },
   "file_extension": ".py",
   "mimetype": "text/x-python",
   "name": "python",
   "nbconvert_exporter": "python",
   "pygments_lexer": "ipython3",
   "version": "3.7.4"
  }
 },
 "nbformat": 4,
 "nbformat_minor": 2
}
